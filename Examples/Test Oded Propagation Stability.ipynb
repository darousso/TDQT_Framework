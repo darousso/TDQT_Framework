{
 "cells": [
  {
   "cell_type": "code",
   "execution_count": 1,
   "id": "f7108ae6",
   "metadata": {},
   "outputs": [],
   "source": [
    "import dealwithpath\n",
    "from TDQT import *"
   ]
  },
  {
   "cell_type": "code",
   "execution_count": 2,
   "id": "73bb64dd",
   "metadata": {},
   "outputs": [
    {
     "name": "stderr",
     "output_type": "stream",
     "text": [
      "/eos/home-i00/d/drousso/SWAN_projects/TDQT_NEW/Examples/../TDQT/device_defn.py:112: RuntimeWarning: divide by zero encountered in divide\n",
      "  Target_P0ss[:size_lead_L,:size_lead_L]=np.diag(expit(- (E_L - mu_L) / (kB * T_L)))\n",
      "/eos/home-i00/d/drousso/SWAN_projects/TDQT_NEW/Examples/../TDQT/device_defn.py:113: RuntimeWarning: divide by zero encountered in divide\n",
      "  Target_P0ss[-size_lead_R:,-size_lead_R:]=np.diag(expit(- (E_R - mu_R) / (kB * T_R)))\n",
      "/eos/home-i00/d/drousso/SWAN_projects/TDQT_NEW/Examples/../TDQT/device_defn.py:114: RuntimeWarning: divide by zero encountered in divide\n",
      "  Target_P0ss[size_lead_L:size_lead_L+size_EM,size_lead_L:size_lead_L+size_EM]=np.diag(expit(- (E_EM - mu_EM) / (kB * T_EM)))\n"
     ]
    }
   ],
   "source": [
    "structure_config=\"Oded\"\n",
    "V_bias=0.3 #V\n",
    "T_L=0 #K\n",
    "T_R=0 #K\n",
    "T_EM=0 #K\n",
    "\n",
    "H, S, size_lead_L,size_lead_R = Get_Structure(structure_config)\n",
    "device = Device(\n",
    "    H=H, \n",
    "    S=S, \n",
    "    size_lead_L=size_lead_L,size_lead_R=size_lead_R,\n",
    "    V_bias=V_bias,\n",
    "    T_L=T_L, T_R=T_R, T_EM=T_EM,\n",
    "    clean_matrices=True\n",
    ")\n",
    "# device.Visualize()"
   ]
  },
  {
   "cell_type": "markdown",
   "id": "1031c01f",
   "metadata": {},
   "source": [
    "# Site Representation"
   ]
  },
  {
   "cell_type": "code",
   "execution_count": 3,
   "id": "e1acfd2b",
   "metadata": {},
   "outputs": [],
   "source": [
    "# Gamma     = 0 *invfs\n",
    "# Delta_t   = 1 *fs\n",
    "# max_iters = 100\n",
    "# list_of_outputs=[\"P@S diagonal\",\"J All Elements\",\"J Leads Only\"]\n",
    "# solver_type=\"Forwards Difference\"\n",
    "\n",
    "# solver = Solver(device,\n",
    "#     Gamma=Gamma, \n",
    "#     Delta_t=Delta_t, \n",
    "#     max_iters=max_iters, \n",
    "#     list_of_outputs=list_of_outputs, \n",
    "# )\n",
    "# outputs_dict=solver.Propagate_In_Site(solver_type=solver_type)\n",
    "# plots_dict=solver.Visualize_Results(figsize=(5,5),dpi=200)"
   ]
  },
  {
   "cell_type": "code",
   "execution_count": 4,
   "id": "076435b1",
   "metadata": {},
   "outputs": [],
   "source": [
    "# Gamma     = 0.001 *invfs\n",
    "# Delta_t   = 1 *fs\n",
    "# max_iters = 100\n",
    "# list_of_outputs=[\"P@S diagonal\",\"J All Elements\",\"J Leads Only\"]\n",
    "# solver_type=\"Central Difference\"\n",
    "\n",
    "# solver = Solver(device,\n",
    "#     Gamma=Gamma, \n",
    "#     Delta_t=Delta_t, \n",
    "#     max_iters=max_iters, \n",
    "#     list_of_outputs=list_of_outputs, \n",
    "# )\n",
    "# outputs_dict=solver.Propagate_In_Site(solver_type=solver_type)\n",
    "# plots_dict=solver.Visualize_Results(figsize=(5,5),dpi=200)"
   ]
  },
  {
   "cell_type": "code",
   "execution_count": null,
   "id": "8288a9b9",
   "metadata": {},
   "outputs": [],
   "source": [
    "Gamma     = 0.001 *invfs\n",
    "Delta_t   = 1 *fs\n",
    "max_iters = 100\n",
    "list_of_outputs=[\"P@S diagonal\",\"J All Elements\",\"J Leads Only\"]\n",
    "solver_type=\"Crank-Nicholson\"\n",
    "\n",
    "solver = Solver(device,\n",
    "    Gamma=Gamma, \n",
    "    Delta_t=Delta_t, \n",
    "    max_iters=max_iters, \n",
    "    list_of_outputs=list_of_outputs, \n",
    ")\n",
    "outputs_dict=solver.Propagate_In_Site(solver_type=solver_type)\n",
    "plots_dict=solver.Visualize_Results(figsize=(5,5),dpi=200)"
   ]
  },
  {
   "cell_type": "code",
   "execution_count": null,
   "id": "2c57771a",
   "metadata": {},
   "outputs": [],
   "source": [
    "Gamma     = 0.001 *invfs\n",
    "Delta_t   = 1 *fs\n",
    "max_iters = 100\n",
    "list_of_outputs=[\"P@S diagonal\",\"J All Elements\",\"J Leads Only\"]\n",
    "solver_type=\"Backwards Difference\"\n",
    "\n",
    "solver = Solver(device,\n",
    "    Gamma=Gamma, \n",
    "    Delta_t=Delta_t, \n",
    "    max_iters=max_iters, \n",
    "    list_of_outputs=list_of_outputs, \n",
    ")\n",
    "outputs_dict=solver.Propagate_In_Site(solver_type=solver_type)\n",
    "plots_dict=solver.Visualize_Results(figsize=(5,5),dpi=200)"
   ]
  },
  {
   "cell_type": "markdown",
   "id": "36c298d4",
   "metadata": {},
   "source": [
    "# State Representation"
   ]
  },
  {
   "cell_type": "code",
   "execution_count": null,
   "id": "43468f9c",
   "metadata": {},
   "outputs": [],
   "source": [
    "# Gamma     = 0 *invfs\n",
    "# Delta_t   = 1 *fs\n",
    "# max_iters = 100\n",
    "# list_of_outputs=[\"Pss diagonal\",\"J Leads Only From State\",\"P@S diagonal From State\"]\n",
    "# solver_type=\"Forwards Difference\"\n",
    "\n",
    "# solver = Solver(device,\n",
    "#     Gamma=Gamma, \n",
    "#     Delta_t=Delta_t, \n",
    "#     max_iters=max_iters, \n",
    "#     list_of_outputs=list_of_outputs, \n",
    "# )\n",
    "# outputs_dict=solver.Propagate_In_State(solver_type=solver_type)\n",
    "# plots_dict=solver.Visualize_Results(figsize=(5,5),dpi=200)"
   ]
  },
  {
   "cell_type": "code",
   "execution_count": null,
   "id": "21875c51",
   "metadata": {},
   "outputs": [],
   "source": [
    "# Gamma     = 0.001 *invfs\n",
    "# Delta_t   = 1 *fs\n",
    "# max_iters = 100\n",
    "# list_of_outputs=[\"Pss diagonal\",\"J Leads Only From State\",\"P@S diagonal From State\"]\n",
    "# solver_type=\"Forwards Difference\"\n",
    "\n",
    "# solver = Solver(device,\n",
    "#     Gamma=Gamma, \n",
    "#     Delta_t=Delta_t, \n",
    "#     max_iters=max_iters, \n",
    "#     list_of_outputs=list_of_outputs, \n",
    "# )\n",
    "# outputs_dict=solver.Propagate_In_State(solver_type=solver_type)\n",
    "# plots_dict=solver.Visualize_Results(figsize=(5,5),dpi=200)"
   ]
  },
  {
   "cell_type": "code",
   "execution_count": null,
   "id": "c1b784c0",
   "metadata": {},
   "outputs": [],
   "source": [
    "Gamma     = 0.001 *invfs\n",
    "Delta_t   = 1 *fs\n",
    "max_iters = 100\n",
    "list_of_outputs=[\"Pss diagonal\",\"J Leads Only From State\",\"P@S diagonal From State\"]\n",
    "solver_type=\"Crank-Nicholson\"\n",
    "\n",
    "solver = Solver(device,\n",
    "    Gamma=Gamma, \n",
    "    Delta_t=Delta_t, \n",
    "    max_iters=max_iters, \n",
    "    list_of_outputs=list_of_outputs, \n",
    ")\n",
    "outputs_dict=solver.Propagate_In_State(solver_type=solver_type)\n",
    "plots_dict=solver.Visualize_Results(figsize=(5,5),dpi=200)"
   ]
  },
  {
   "cell_type": "code",
   "execution_count": null,
   "id": "aaa74542",
   "metadata": {
    "scrolled": true
   },
   "outputs": [],
   "source": [
    "Gamma     = 0.100 *invfs\n",
    "Delta_t   = 1 *fs\n",
    "max_iters = 100\n",
    "list_of_outputs=[\"Pss diagonal\",\"J Leads Only From State\",\"P@S diagonal From State\"]\n",
    "solver_type=\"Backwards Difference\"\n",
    "\n",
    "solver = Solver(device,\n",
    "    Gamma=Gamma, \n",
    "    Delta_t=Delta_t, \n",
    "    max_iters=max_iters, \n",
    "    list_of_outputs=list_of_outputs, \n",
    ")\n",
    "outputs_dict=solver.Propagate_In_State(solver_type=solver_type)\n",
    "plots_dict=solver.Visualize_Results(figsize=(5,5),dpi=200)"
   ]
  },
  {
   "cell_type": "code",
   "execution_count": null,
   "id": "bb855f10",
   "metadata": {},
   "outputs": [],
   "source": []
  }
 ],
 "metadata": {
  "@webio": {
   "lastCommId": null,
   "lastKernelId": null
  },
  "kernelspec": {
   "display_name": "Python 3",
   "language": "python",
   "name": "python3"
  },
  "language_info": {
   "codemirror_mode": {
    "name": "ipython",
    "version": 3
   },
   "file_extension": ".py",
   "mimetype": "text/x-python",
   "name": "python",
   "nbconvert_exporter": "python",
   "pygments_lexer": "ipython3",
   "version": "3.11.9"
  }
 },
 "nbformat": 4,
 "nbformat_minor": 5
}
